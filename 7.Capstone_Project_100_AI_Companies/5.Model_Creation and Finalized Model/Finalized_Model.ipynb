{
 "cells": [
  {
   "cell_type": "code",
   "execution_count": 10,
   "id": "f184f809-f680-4b83-a4c5-a8b594f7cf5b",
   "metadata": {},
   "outputs": [],
   "source": [
    "import pickle\n",
    "import numpy as np\n",
    "import pandas as pd\n",
    "from sklearn.model_selection import train_test_split\n",
    "from sklearn.preprocessing import StandardScaler"
   ]
  },
  {
   "cell_type": "code",
   "execution_count": 6,
   "id": "9326be6b-ef36-4d57-ac37-016dae39129c",
   "metadata": {},
   "outputs": [],
   "source": [
    "# Load the model\n",
    "dataset=pd.read_csv(\"Pre_AI_Companies.csv\")"
   ]
  },
  {
   "cell_type": "code",
   "execution_count": 8,
   "id": "764373ff-c04d-429f-a615-ff45f3ff4c35",
   "metadata": {},
   "outputs": [],
   "source": [
    "dataset.drop(['Company Name','Description','Headquarters'],axis=1,inplace=True)\n",
    "indep_X=dataset.drop(['Annual Revenue'], axis=1)\n",
    "dep_Y=dataset['Annual Revenue']"
   ]
  },
  {
   "cell_type": "code",
   "execution_count": 14,
   "id": "2f12daad-3d19-489d-810a-09ea9c4df74e",
   "metadata": {},
   "outputs": [],
   "source": [
    "X_train, X_test, y_train, y_test = train_test_split(indep_X, dep_Y, test_size = 0.25, random_state = 0)\n",
    "sc = StandardScaler()\n",
    "X_train = sc.fit_transform(X_train)\n",
    "X_test = sc.transform(X_test)"
   ]
  },
  {
   "cell_type": "code",
   "execution_count": 15,
   "id": "66e8144b-509b-4e12-95ad-ba54fc105b1c",
   "metadata": {},
   "outputs": [
    {
     "name": "stdin",
     "output_type": "stream",
     "text": [
      "Enter the Glassdoor Score : 3.9\n",
      "Enter the year founded: 2022\n"
     ]
    },
    {
     "name": "stdout",
     "output_type": "stream",
     "text": [
      "[[-189.60617037 4880.19219125]]\n",
      "Predicted Price: [-7010388.47224876]\n"
     ]
    },
    {
     "name": "stderr",
     "output_type": "stream",
     "text": [
      "C:\\Users\\Karpagavalli\\anaconda3\\envs\\valli\\Lib\\site-packages\\sklearn\\base.py:450: UserWarning: X does not have valid feature names, but StandardScaler was fitted with feature names\n",
      "  warnings.warn(\n"
     ]
    }
   ],
   "source": [
    "#getting the input from user and predicting the output\n",
    "glassdoor_score=float(input(\"Enter the Glassdoor Score :\"))\n",
    "year_founded=int(input(\"Enter the year founded:\"))\n",
    "preinput=sc.transform([[glassdoor_score,year_founded]])\n",
    "print(preinput)\n",
    "\n",
    "loaded_model = pickle.load(open(\"Finilised_Model.sav\", 'rb'))\n",
    "result=loaded_model.predict(preinput)\n",
    "\n",
    "\n",
    "print(f'Predicted Price: {result}')"
   ]
  },
  {
   "cell_type": "code",
   "execution_count": null,
   "id": "a7a8dda4-355f-4093-85da-b6a202cd3cb3",
   "metadata": {},
   "outputs": [],
   "source": []
  }
 ],
 "metadata": {
  "kernelspec": {
   "display_name": "Python 3 (ipykernel)",
   "language": "python",
   "name": "python3"
  },
  "language_info": {
   "codemirror_mode": {
    "name": "ipython",
    "version": 3
   },
   "file_extension": ".py",
   "mimetype": "text/x-python",
   "name": "python",
   "nbconvert_exporter": "python",
   "pygments_lexer": "ipython3",
   "version": "3.11.5"
  }
 },
 "nbformat": 4,
 "nbformat_minor": 5
}
