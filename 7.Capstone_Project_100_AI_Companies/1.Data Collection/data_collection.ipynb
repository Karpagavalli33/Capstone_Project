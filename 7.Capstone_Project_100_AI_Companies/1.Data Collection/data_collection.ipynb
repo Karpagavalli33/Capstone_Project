{
 "cells": [
  {
   "cell_type": "code",
   "execution_count": 1,
   "id": "b5b679ea-9d20-4895-b0d6-2227cb6b6e03",
   "metadata": {},
   "outputs": [],
   "source": [
    "import pandas as pd"
   ]
  },
  {
   "cell_type": "code",
   "execution_count": 2,
   "id": "d6125e82-c544-4937-8e1f-16411803b7a8",
   "metadata": {},
   "outputs": [],
   "source": [
    "dataset=pd.read_csv(\"Ai_companies.csv\")"
   ]
  },
  {
   "cell_type": "code",
   "execution_count": 3,
   "id": "f72c6c74-6a3e-4d89-ab89-ca8d20b899e1",
   "metadata": {},
   "outputs": [
    {
     "data": {
      "text/html": [
       "<div>\n",
       "<style scoped>\n",
       "    .dataframe tbody tr th:only-of-type {\n",
       "        vertical-align: middle;\n",
       "    }\n",
       "\n",
       "    .dataframe tbody tr th {\n",
       "        vertical-align: top;\n",
       "    }\n",
       "\n",
       "    .dataframe thead th {\n",
       "        text-align: right;\n",
       "    }\n",
       "</style>\n",
       "<table border=\"1\" class=\"dataframe\">\n",
       "  <thead>\n",
       "    <tr style=\"text-align: right;\">\n",
       "      <th></th>\n",
       "      <th>Company Name</th>\n",
       "      <th>Description</th>\n",
       "      <th>Headquarters</th>\n",
       "      <th>Founded</th>\n",
       "      <th>Annual Revenue</th>\n",
       "      <th>Glassdoor Score</th>\n",
       "    </tr>\n",
       "  </thead>\n",
       "  <tbody>\n",
       "    <tr>\n",
       "      <th>0</th>\n",
       "      <td>Alibaba Cloud</td>\n",
       "      <td>Best for Big Data Analytics</td>\n",
       "      <td>Hangzhou, China</td>\n",
       "      <td>2009</td>\n",
       "      <td>$479.5 million</td>\n",
       "      <td>3.7/5</td>\n",
       "    </tr>\n",
       "    <tr>\n",
       "      <th>1</th>\n",
       "      <td>DataRobot</td>\n",
       "      <td>Best for Automated Machine Learning</td>\n",
       "      <td>Boston, Massachusetts</td>\n",
       "      <td>2012</td>\n",
       "      <td>$338.2 million</td>\n",
       "      <td>3.7/5</td>\n",
       "    </tr>\n",
       "    <tr>\n",
       "      <th>2</th>\n",
       "      <td>Google</td>\n",
       "      <td>Best for AI Development</td>\n",
       "      <td>Mountain View, California</td>\n",
       "      <td>1998</td>\n",
       "      <td>$305.6 billion</td>\n",
       "      <td>4.4/5</td>\n",
       "    </tr>\n",
       "    <tr>\n",
       "      <th>3</th>\n",
       "      <td>Hugging Face</td>\n",
       "      <td>Best for Deploying AI Models in the Cloud</td>\n",
       "      <td>Brooklyn, New York</td>\n",
       "      <td>2016</td>\n",
       "      <td>$40 million</td>\n",
       "      <td>4.3/5</td>\n",
       "    </tr>\n",
       "    <tr>\n",
       "      <th>4</th>\n",
       "      <td>H2O.ai</td>\n",
       "      <td>Best for Time Series Forecasting</td>\n",
       "      <td>Mountain View, California</td>\n",
       "      <td>2011</td>\n",
       "      <td>$69.2 million</td>\n",
       "      <td>3.1/5</td>\n",
       "    </tr>\n",
       "    <tr>\n",
       "      <th>...</th>\n",
       "      <td>...</td>\n",
       "      <td>...</td>\n",
       "      <td>...</td>\n",
       "      <td>...</td>\n",
       "      <td>...</td>\n",
       "      <td>...</td>\n",
       "    </tr>\n",
       "    <tr>\n",
       "      <th>95</th>\n",
       "      <td>Nuro</td>\n",
       "      <td>Best for Driverless Operation</td>\n",
       "      <td>Mountain View, California</td>\n",
       "      <td>2016</td>\n",
       "      <td>$438.8 million</td>\n",
       "      <td>3.8/5</td>\n",
       "    </tr>\n",
       "    <tr>\n",
       "      <th>96</th>\n",
       "      <td>Pony.ai</td>\n",
       "      <td>Best for Robotruck Development</td>\n",
       "      <td>Fremont, California</td>\n",
       "      <td>2016</td>\n",
       "      <td>$100 million</td>\n",
       "      <td>3.4/5</td>\n",
       "    </tr>\n",
       "    <tr>\n",
       "      <th>97</th>\n",
       "      <td>Tesla</td>\n",
       "      <td>Best for Electric Vehicles</td>\n",
       "      <td>Austin, Texas</td>\n",
       "      <td>2003</td>\n",
       "      <td>$96.77 billion</td>\n",
       "      <td>3.6/5</td>\n",
       "    </tr>\n",
       "    <tr>\n",
       "      <th>98</th>\n",
       "      <td>Waymo</td>\n",
       "      <td>Best for Experience and Testing</td>\n",
       "      <td>Mountain View, California</td>\n",
       "      <td>2016</td>\n",
       "      <td>$1.4 billion</td>\n",
       "      <td>3.7/5</td>\n",
       "    </tr>\n",
       "    <tr>\n",
       "      <th>99</th>\n",
       "      <td>Zoox</td>\n",
       "      <td>Best for Robotaxi Services</td>\n",
       "      <td>Foster City, California</td>\n",
       "      <td>2014</td>\n",
       "      <td>$897.1 million</td>\n",
       "      <td>3.9/5</td>\n",
       "    </tr>\n",
       "  </tbody>\n",
       "</table>\n",
       "<p>100 rows × 6 columns</p>\n",
       "</div>"
      ],
      "text/plain": [
       "     Company Name                                Description  \\\n",
       "0   Alibaba Cloud                Best for Big Data Analytics   \n",
       "1       DataRobot        Best for Automated Machine Learning   \n",
       "2          Google                    Best for AI Development   \n",
       "3    Hugging Face  Best for Deploying AI Models in the Cloud   \n",
       "4          H2O.ai           Best for Time Series Forecasting   \n",
       "..            ...                                        ...   \n",
       "95           Nuro              Best for Driverless Operation   \n",
       "96        Pony.ai             Best for Robotruck Development   \n",
       "97          Tesla                 Best for Electric Vehicles   \n",
       "98          Waymo            Best for Experience and Testing   \n",
       "99           Zoox                 Best for Robotaxi Services   \n",
       "\n",
       "                 Headquarters  Founded  Annual Revenue Glassdoor Score  \n",
       "0             Hangzhou, China     2009  $479.5 million           3.7/5  \n",
       "1       Boston, Massachusetts     2012  $338.2 million           3.7/5  \n",
       "2   Mountain View, California     1998  $305.6 billion           4.4/5  \n",
       "3          Brooklyn, New York     2016     $40 million           4.3/5  \n",
       "4   Mountain View, California     2011   $69.2 million           3.1/5  \n",
       "..                        ...      ...             ...             ...  \n",
       "95  Mountain View, California     2016  $438.8 million           3.8/5  \n",
       "96        Fremont, California     2016    $100 million           3.4/5  \n",
       "97              Austin, Texas     2003  $96.77 billion           3.6/5  \n",
       "98  Mountain View, California     2016    $1.4 billion           3.7/5  \n",
       "99    Foster City, California     2014  $897.1 million           3.9/5  \n",
       "\n",
       "[100 rows x 6 columns]"
      ]
     },
     "execution_count": 3,
     "metadata": {},
     "output_type": "execute_result"
    }
   ],
   "source": [
    "dataset"
   ]
  },
  {
   "cell_type": "code",
   "execution_count": 4,
   "id": "daa9f7c6-a1ab-42d5-a3c5-9193b5d99648",
   "metadata": {},
   "outputs": [
    {
     "data": {
      "text/plain": [
       "(100, 6)"
      ]
     },
     "execution_count": 4,
     "metadata": {},
     "output_type": "execute_result"
    }
   ],
   "source": [
    "dataset.shape"
   ]
  },
  {
   "cell_type": "code",
   "execution_count": 5,
   "id": "825fb4c5-835b-4185-875a-c414f6960528",
   "metadata": {},
   "outputs": [],
   "source": [
    "## After verifying the dataset, have no need for the prediction. However if Client asking the solution we can predict the annual revenue and glassdoor score.\n"
   ]
  },
  {
   "cell_type": "code",
   "execution_count": null,
   "id": "e6d8bb0f-2c77-48c0-b186-eea68130147c",
   "metadata": {},
   "outputs": [],
   "source": []
  }
 ],
 "metadata": {
  "kernelspec": {
   "display_name": "Python 3 (ipykernel)",
   "language": "python",
   "name": "python3"
  },
  "language_info": {
   "codemirror_mode": {
    "name": "ipython",
    "version": 3
   },
   "file_extension": ".py",
   "mimetype": "text/x-python",
   "name": "python",
   "nbconvert_exporter": "python",
   "pygments_lexer": "ipython3",
   "version": "3.11.5"
  }
 },
 "nbformat": 4,
 "nbformat_minor": 5
}
