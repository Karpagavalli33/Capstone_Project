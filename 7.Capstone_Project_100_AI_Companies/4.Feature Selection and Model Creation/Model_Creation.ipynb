{
 "cells": [
  {
   "cell_type": "code",
   "execution_count": 2,
   "id": "61652bce-755b-4493-9b80-42be1cafef19",
   "metadata": {},
   "outputs": [],
   "source": [
    "import numpy as np\n",
    "import pandas as pd \n",
    "import matplotlib.pyplot as plt\n",
    "from sklearn.model_selection import train_test_split\n",
    "from sklearn.linear_model import LinearRegression\n",
    "from sklearn.preprocessing import StandardScaler\n",
    "from sklearn.metrics import r2_score"
   ]
  },
  {
   "cell_type": "code",
   "execution_count": 3,
   "id": "6ba37bee-6b14-433e-9f4d-ba2f2704d295",
   "metadata": {},
   "outputs": [],
   "source": [
    "dataset=pd.read_csv('Pre_AI_Companies.csv')"
   ]
  },
  {
   "cell_type": "code",
   "execution_count": 4,
   "id": "20d69810-5363-408b-aefa-f0a2a7dec08d",
   "metadata": {},
   "outputs": [
    {
     "data": {
      "text/html": [
       "<div>\n",
       "<style scoped>\n",
       "    .dataframe tbody tr th:only-of-type {\n",
       "        vertical-align: middle;\n",
       "    }\n",
       "\n",
       "    .dataframe tbody tr th {\n",
       "        vertical-align: top;\n",
       "    }\n",
       "\n",
       "    .dataframe thead th {\n",
       "        text-align: right;\n",
       "    }\n",
       "</style>\n",
       "<table border=\"1\" class=\"dataframe\">\n",
       "  <thead>\n",
       "    <tr style=\"text-align: right;\">\n",
       "      <th></th>\n",
       "      <th>Company Name</th>\n",
       "      <th>Description</th>\n",
       "      <th>Headquarters</th>\n",
       "      <th>Founded</th>\n",
       "      <th>Annual Revenue</th>\n",
       "      <th>Glassdoor Score</th>\n",
       "    </tr>\n",
       "  </thead>\n",
       "  <tbody>\n",
       "    <tr>\n",
       "      <th>0</th>\n",
       "      <td>Alibaba Cloud</td>\n",
       "      <td>Best for Big Data Analytics</td>\n",
       "      <td>China</td>\n",
       "      <td>2009.0</td>\n",
       "      <td>479.5</td>\n",
       "      <td>3.75</td>\n",
       "    </tr>\n",
       "    <tr>\n",
       "      <th>1</th>\n",
       "      <td>DataRobot</td>\n",
       "      <td>Best for Automated Machine Learning</td>\n",
       "      <td>Massachusetts</td>\n",
       "      <td>2012.0</td>\n",
       "      <td>338.2</td>\n",
       "      <td>3.75</td>\n",
       "    </tr>\n",
       "    <tr>\n",
       "      <th>2</th>\n",
       "      <td>Google</td>\n",
       "      <td>Best for AI Development</td>\n",
       "      <td>California</td>\n",
       "      <td>1998.0</td>\n",
       "      <td>305600.0</td>\n",
       "      <td>4.45</td>\n",
       "    </tr>\n",
       "    <tr>\n",
       "      <th>3</th>\n",
       "      <td>Hugging Face</td>\n",
       "      <td>Best for Deploying AI Models in the Cloud</td>\n",
       "      <td>New York</td>\n",
       "      <td>2016.0</td>\n",
       "      <td>40.0</td>\n",
       "      <td>4.35</td>\n",
       "    </tr>\n",
       "    <tr>\n",
       "      <th>4</th>\n",
       "      <td>H2O.ai</td>\n",
       "      <td>Best for Time Series Forecasting</td>\n",
       "      <td>California</td>\n",
       "      <td>2011.0</td>\n",
       "      <td>69.2</td>\n",
       "      <td>3.15</td>\n",
       "    </tr>\n",
       "    <tr>\n",
       "      <th>...</th>\n",
       "      <td>...</td>\n",
       "      <td>...</td>\n",
       "      <td>...</td>\n",
       "      <td>...</td>\n",
       "      <td>...</td>\n",
       "      <td>...</td>\n",
       "    </tr>\n",
       "    <tr>\n",
       "      <th>95</th>\n",
       "      <td>Nuro</td>\n",
       "      <td>Best for Driverless Operation</td>\n",
       "      <td>California</td>\n",
       "      <td>2016.0</td>\n",
       "      <td>438.8</td>\n",
       "      <td>3.85</td>\n",
       "    </tr>\n",
       "    <tr>\n",
       "      <th>96</th>\n",
       "      <td>Pony.ai</td>\n",
       "      <td>Best for Robotruck Development</td>\n",
       "      <td>California</td>\n",
       "      <td>2016.0</td>\n",
       "      <td>100.0</td>\n",
       "      <td>3.45</td>\n",
       "    </tr>\n",
       "    <tr>\n",
       "      <th>97</th>\n",
       "      <td>Tesla</td>\n",
       "      <td>Best for Electric Vehicles</td>\n",
       "      <td>Texas</td>\n",
       "      <td>2003.0</td>\n",
       "      <td>96770.0</td>\n",
       "      <td>3.65</td>\n",
       "    </tr>\n",
       "    <tr>\n",
       "      <th>98</th>\n",
       "      <td>Waymo</td>\n",
       "      <td>Best for Experience and Testing</td>\n",
       "      <td>California</td>\n",
       "      <td>2016.0</td>\n",
       "      <td>1400.0</td>\n",
       "      <td>3.75</td>\n",
       "    </tr>\n",
       "    <tr>\n",
       "      <th>99</th>\n",
       "      <td>Zoox</td>\n",
       "      <td>Best for Robotaxi Services</td>\n",
       "      <td>California</td>\n",
       "      <td>2014.0</td>\n",
       "      <td>897.1</td>\n",
       "      <td>3.95</td>\n",
       "    </tr>\n",
       "  </tbody>\n",
       "</table>\n",
       "<p>100 rows × 6 columns</p>\n",
       "</div>"
      ],
      "text/plain": [
       "     Company Name                                Description    Headquarters  \\\n",
       "0   Alibaba Cloud                Best for Big Data Analytics           China   \n",
       "1       DataRobot        Best for Automated Machine Learning   Massachusetts   \n",
       "2          Google                    Best for AI Development      California   \n",
       "3    Hugging Face  Best for Deploying AI Models in the Cloud        New York   \n",
       "4          H2O.ai           Best for Time Series Forecasting      California   \n",
       "..            ...                                        ...             ...   \n",
       "95           Nuro              Best for Driverless Operation      California   \n",
       "96        Pony.ai             Best for Robotruck Development      California   \n",
       "97          Tesla                 Best for Electric Vehicles           Texas   \n",
       "98          Waymo            Best for Experience and Testing      California   \n",
       "99           Zoox                 Best for Robotaxi Services      California   \n",
       "\n",
       "    Founded  Annual Revenue  Glassdoor Score  \n",
       "0    2009.0           479.5             3.75  \n",
       "1    2012.0           338.2             3.75  \n",
       "2    1998.0        305600.0             4.45  \n",
       "3    2016.0            40.0             4.35  \n",
       "4    2011.0            69.2             3.15  \n",
       "..      ...             ...              ...  \n",
       "95   2016.0           438.8             3.85  \n",
       "96   2016.0           100.0             3.45  \n",
       "97   2003.0         96770.0             3.65  \n",
       "98   2016.0          1400.0             3.75  \n",
       "99   2014.0           897.1             3.95  \n",
       "\n",
       "[100 rows x 6 columns]"
      ]
     },
     "execution_count": 4,
     "metadata": {},
     "output_type": "execute_result"
    }
   ],
   "source": [
    "dataset"
   ]
  },
  {
   "cell_type": "code",
   "execution_count": 5,
   "id": "0ca16f26-c4f0-4149-b219-f28b26a807fe",
   "metadata": {},
   "outputs": [],
   "source": [
    "dataset.drop(['Company Name','Description','Headquarters'],axis=1,inplace=True)"
   ]
  },
  {
   "cell_type": "code",
   "execution_count": 6,
   "id": "ce8d4537-7196-4ebd-820d-3c4ce06081ac",
   "metadata": {},
   "outputs": [],
   "source": [
    "dataset = pd.get_dummies(dataset, drop_first=True,dtype=int)"
   ]
  },
  {
   "cell_type": "code",
   "execution_count": 7,
   "id": "dcb3c7c1-c9ab-4b66-8fea-8bea72ea5498",
   "metadata": {},
   "outputs": [
    {
     "data": {
      "text/html": [
       "<div>\n",
       "<style scoped>\n",
       "    .dataframe tbody tr th:only-of-type {\n",
       "        vertical-align: middle;\n",
       "    }\n",
       "\n",
       "    .dataframe tbody tr th {\n",
       "        vertical-align: top;\n",
       "    }\n",
       "\n",
       "    .dataframe thead th {\n",
       "        text-align: right;\n",
       "    }\n",
       "</style>\n",
       "<table border=\"1\" class=\"dataframe\">\n",
       "  <thead>\n",
       "    <tr style=\"text-align: right;\">\n",
       "      <th></th>\n",
       "      <th>Founded</th>\n",
       "      <th>Annual Revenue</th>\n",
       "      <th>Glassdoor Score</th>\n",
       "    </tr>\n",
       "  </thead>\n",
       "  <tbody>\n",
       "    <tr>\n",
       "      <th>0</th>\n",
       "      <td>2009.0</td>\n",
       "      <td>479.5</td>\n",
       "      <td>3.75</td>\n",
       "    </tr>\n",
       "    <tr>\n",
       "      <th>1</th>\n",
       "      <td>2012.0</td>\n",
       "      <td>338.2</td>\n",
       "      <td>3.75</td>\n",
       "    </tr>\n",
       "    <tr>\n",
       "      <th>2</th>\n",
       "      <td>1998.0</td>\n",
       "      <td>305600.0</td>\n",
       "      <td>4.45</td>\n",
       "    </tr>\n",
       "    <tr>\n",
       "      <th>3</th>\n",
       "      <td>2016.0</td>\n",
       "      <td>40.0</td>\n",
       "      <td>4.35</td>\n",
       "    </tr>\n",
       "    <tr>\n",
       "      <th>4</th>\n",
       "      <td>2011.0</td>\n",
       "      <td>69.2</td>\n",
       "      <td>3.15</td>\n",
       "    </tr>\n",
       "    <tr>\n",
       "      <th>...</th>\n",
       "      <td>...</td>\n",
       "      <td>...</td>\n",
       "      <td>...</td>\n",
       "    </tr>\n",
       "    <tr>\n",
       "      <th>95</th>\n",
       "      <td>2016.0</td>\n",
       "      <td>438.8</td>\n",
       "      <td>3.85</td>\n",
       "    </tr>\n",
       "    <tr>\n",
       "      <th>96</th>\n",
       "      <td>2016.0</td>\n",
       "      <td>100.0</td>\n",
       "      <td>3.45</td>\n",
       "    </tr>\n",
       "    <tr>\n",
       "      <th>97</th>\n",
       "      <td>2003.0</td>\n",
       "      <td>96770.0</td>\n",
       "      <td>3.65</td>\n",
       "    </tr>\n",
       "    <tr>\n",
       "      <th>98</th>\n",
       "      <td>2016.0</td>\n",
       "      <td>1400.0</td>\n",
       "      <td>3.75</td>\n",
       "    </tr>\n",
       "    <tr>\n",
       "      <th>99</th>\n",
       "      <td>2014.0</td>\n",
       "      <td>897.1</td>\n",
       "      <td>3.95</td>\n",
       "    </tr>\n",
       "  </tbody>\n",
       "</table>\n",
       "<p>100 rows × 3 columns</p>\n",
       "</div>"
      ],
      "text/plain": [
       "    Founded  Annual Revenue  Glassdoor Score\n",
       "0    2009.0           479.5             3.75\n",
       "1    2012.0           338.2             3.75\n",
       "2    1998.0        305600.0             4.45\n",
       "3    2016.0            40.0             4.35\n",
       "4    2011.0            69.2             3.15\n",
       "..      ...             ...              ...\n",
       "95   2016.0           438.8             3.85\n",
       "96   2016.0           100.0             3.45\n",
       "97   2003.0         96770.0             3.65\n",
       "98   2016.0          1400.0             3.75\n",
       "99   2014.0           897.1             3.95\n",
       "\n",
       "[100 rows x 3 columns]"
      ]
     },
     "execution_count": 7,
     "metadata": {},
     "output_type": "execute_result"
    }
   ],
   "source": [
    "dataset"
   ]
  },
  {
   "cell_type": "code",
   "execution_count": 8,
   "id": "95a7c644-9bfc-4ed3-9dd9-29401acda391",
   "metadata": {},
   "outputs": [],
   "source": [
    "indep_X=dataset.drop(['Annual Revenue'], axis=1)\n",
    "dep_Y=dataset['Annual Revenue']"
   ]
  },
  {
   "cell_type": "code",
   "execution_count": 9,
   "id": "761c34f2-e99a-4bb0-891b-cc2cc5e85bd1",
   "metadata": {},
   "outputs": [],
   "source": [
    "X_train, X_test, y_train, y_test = train_test_split(indep_X, dep_Y, test_size = 0.25, random_state = 0)\n",
    "sc = StandardScaler()\n",
    "X_train = sc.fit_transform(X_train)\n",
    "X_test = sc.transform(X_test)  "
   ]
  },
  {
   "cell_type": "code",
   "execution_count": null,
   "id": "3f1b2105-690e-42b4-8744-523197ca202c",
   "metadata": {},
   "outputs": [],
   "source": []
  },
  {
   "cell_type": "code",
   "execution_count": 10,
   "id": "5305057a-dacf-45f2-a4db-750829cbf30e",
   "metadata": {},
   "outputs": [
    {
     "data": {
      "text/html": [
       "<style>#sk-container-id-1 {color: black;background-color: white;}#sk-container-id-1 pre{padding: 0;}#sk-container-id-1 div.sk-toggleable {background-color: white;}#sk-container-id-1 label.sk-toggleable__label {cursor: pointer;display: block;width: 100%;margin-bottom: 0;padding: 0.3em;box-sizing: border-box;text-align: center;}#sk-container-id-1 label.sk-toggleable__label-arrow:before {content: \"▸\";float: left;margin-right: 0.25em;color: #696969;}#sk-container-id-1 label.sk-toggleable__label-arrow:hover:before {color: black;}#sk-container-id-1 div.sk-estimator:hover label.sk-toggleable__label-arrow:before {color: black;}#sk-container-id-1 div.sk-toggleable__content {max-height: 0;max-width: 0;overflow: hidden;text-align: left;background-color: #f0f8ff;}#sk-container-id-1 div.sk-toggleable__content pre {margin: 0.2em;color: black;border-radius: 0.25em;background-color: #f0f8ff;}#sk-container-id-1 input.sk-toggleable__control:checked~div.sk-toggleable__content {max-height: 200px;max-width: 100%;overflow: auto;}#sk-container-id-1 input.sk-toggleable__control:checked~label.sk-toggleable__label-arrow:before {content: \"▾\";}#sk-container-id-1 div.sk-estimator input.sk-toggleable__control:checked~label.sk-toggleable__label {background-color: #d4ebff;}#sk-container-id-1 div.sk-label input.sk-toggleable__control:checked~label.sk-toggleable__label {background-color: #d4ebff;}#sk-container-id-1 input.sk-hidden--visually {border: 0;clip: rect(1px 1px 1px 1px);clip: rect(1px, 1px, 1px, 1px);height: 1px;margin: -1px;overflow: hidden;padding: 0;position: absolute;width: 1px;}#sk-container-id-1 div.sk-estimator {font-family: monospace;background-color: #f0f8ff;border: 1px dotted black;border-radius: 0.25em;box-sizing: border-box;margin-bottom: 0.5em;}#sk-container-id-1 div.sk-estimator:hover {background-color: #d4ebff;}#sk-container-id-1 div.sk-parallel-item::after {content: \"\";width: 100%;border-bottom: 1px solid gray;flex-grow: 1;}#sk-container-id-1 div.sk-label:hover label.sk-toggleable__label {background-color: #d4ebff;}#sk-container-id-1 div.sk-serial::before {content: \"\";position: absolute;border-left: 1px solid gray;box-sizing: border-box;top: 0;bottom: 0;left: 50%;z-index: 0;}#sk-container-id-1 div.sk-serial {display: flex;flex-direction: column;align-items: center;background-color: white;padding-right: 0.2em;padding-left: 0.2em;position: relative;}#sk-container-id-1 div.sk-item {position: relative;z-index: 1;}#sk-container-id-1 div.sk-parallel {display: flex;align-items: stretch;justify-content: center;background-color: white;position: relative;}#sk-container-id-1 div.sk-item::before, #sk-container-id-1 div.sk-parallel-item::before {content: \"\";position: absolute;border-left: 1px solid gray;box-sizing: border-box;top: 0;bottom: 0;left: 50%;z-index: -1;}#sk-container-id-1 div.sk-parallel-item {display: flex;flex-direction: column;z-index: 1;position: relative;background-color: white;}#sk-container-id-1 div.sk-parallel-item:first-child::after {align-self: flex-end;width: 50%;}#sk-container-id-1 div.sk-parallel-item:last-child::after {align-self: flex-start;width: 50%;}#sk-container-id-1 div.sk-parallel-item:only-child::after {width: 0;}#sk-container-id-1 div.sk-dashed-wrapped {border: 1px dashed gray;margin: 0 0.4em 0.5em 0.4em;box-sizing: border-box;padding-bottom: 0.4em;background-color: white;}#sk-container-id-1 div.sk-label label {font-family: monospace;font-weight: bold;display: inline-block;line-height: 1.2em;}#sk-container-id-1 div.sk-label-container {text-align: center;}#sk-container-id-1 div.sk-container {/* jupyter's `normalize.less` sets `[hidden] { display: none; }` but bootstrap.min.css set `[hidden] { display: none !important; }` so we also need the `!important` here to be able to override the default hidden behavior on the sphinx rendered scikit-learn.org. See: https://github.com/scikit-learn/scikit-learn/issues/21755 */display: inline-block !important;position: relative;}#sk-container-id-1 div.sk-text-repr-fallback {display: none;}</style><div id=\"sk-container-id-1\" class=\"sk-top-container\"><div class=\"sk-text-repr-fallback\"><pre>LinearRegression()</pre><b>In a Jupyter environment, please rerun this cell to show the HTML representation or trust the notebook. <br />On GitHub, the HTML representation is unable to render, please try loading this page with nbviewer.org.</b></div><div class=\"sk-container\" hidden><div class=\"sk-item\"><div class=\"sk-estimator sk-toggleable\"><input class=\"sk-toggleable__control sk-hidden--visually\" id=\"sk-estimator-id-1\" type=\"checkbox\" checked><label for=\"sk-estimator-id-1\" class=\"sk-toggleable__label sk-toggleable__label-arrow\">LinearRegression</label><div class=\"sk-toggleable__content\"><pre>LinearRegression()</pre></div></div></div></div></div>"
      ],
      "text/plain": [
       "LinearRegression()"
      ]
     },
     "execution_count": 10,
     "metadata": {},
     "output_type": "execute_result"
    }
   ],
   "source": [
    "regressor = LinearRegression()\n",
    "regressor.fit(X_train, y_train)"
   ]
  },
  {
   "cell_type": "code",
   "execution_count": 11,
   "id": "9b54026c-2056-466c-aad6-f23a50c7c9c1",
   "metadata": {},
   "outputs": [],
   "source": [
    "y_pred = regressor.predict(X_test)\n",
    "r2=r2_score(y_test,y_pred)"
   ]
  },
  {
   "cell_type": "code",
   "execution_count": 12,
   "id": "9ae6e63e-21ac-4497-8624-b91ac6f85b60",
   "metadata": {},
   "outputs": [
    {
     "data": {
      "text/plain": [
       "0.09268730048508156"
      ]
     },
     "execution_count": 12,
     "metadata": {},
     "output_type": "execute_result"
    }
   ],
   "source": [
    "r2"
   ]
  },
  {
   "cell_type": "code",
   "execution_count": 13,
   "id": "ea220591-8d51-4d17-b7ea-cc0e7dcad458",
   "metadata": {},
   "outputs": [],
   "source": [
    "# Importing the pickle library to save and load models\n",
    "import pickle\n",
    "# Defining the filename for saving the model\n",
    "filename=\"Finilised_Model.sav\""
   ]
  },
  {
   "cell_type": "code",
   "execution_count": 14,
   "id": "4ac8efd1-23bf-4c8a-b55c-34125f957ea5",
   "metadata": {},
   "outputs": [],
   "source": [
    "# Saving the trained model to a file\n",
    "pickle.dump(regressor,open(filename,'wb'))"
   ]
  },
  {
   "cell_type": "code",
   "execution_count": null,
   "id": "10f616a0-a16f-4ec8-b2de-e60e036489d9",
   "metadata": {},
   "outputs": [],
   "source": [
    "\n"
   ]
  },
  {
   "cell_type": "code",
   "execution_count": null,
   "id": "a4c8e514-386b-41d1-9e37-4c9ff7320060",
   "metadata": {},
   "outputs": [],
   "source": []
  }
 ],
 "metadata": {
  "kernelspec": {
   "display_name": "Python 3 (ipykernel)",
   "language": "python",
   "name": "python3"
  },
  "language_info": {
   "codemirror_mode": {
    "name": "ipython",
    "version": 3
   },
   "file_extension": ".py",
   "mimetype": "text/x-python",
   "name": "python",
   "nbconvert_exporter": "python",
   "pygments_lexer": "ipython3",
   "version": "3.11.5"
  }
 },
 "nbformat": 4,
 "nbformat_minor": 5
}
