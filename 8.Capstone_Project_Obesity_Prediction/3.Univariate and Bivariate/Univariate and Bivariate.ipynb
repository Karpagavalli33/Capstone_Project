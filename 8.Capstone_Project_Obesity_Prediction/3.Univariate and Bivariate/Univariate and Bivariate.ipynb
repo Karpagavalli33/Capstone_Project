{
 "cells": [
  {
   "cell_type": "code",
   "execution_count": 27,
   "id": "8cb10f1a-c22d-4d6a-8fbe-5307fa7a1cb2",
   "metadata": {},
   "outputs": [],
   "source": [
    "import pandas as pd\n",
    "import numpy as np\n",
    "import matplotlib.pyplot as plt\n",
    "import seaborn as sns\n",
    "from sklearn.preprocessing import LabelEncoder , StandardScaler"
   ]
  },
  {
   "cell_type": "code",
   "execution_count": 28,
   "id": "747e7c2e-f30f-4c2a-bcd3-45ab92079262",
   "metadata": {},
   "outputs": [],
   "source": [
    "#import warnings\n",
    "import warnings\n",
    "warnings.filterwarnings('ignore')"
   ]
  },
  {
   "cell_type": "code",
   "execution_count": 46,
   "id": "d1bfcf4b-9eb4-4789-836e-261f2150f267",
   "metadata": {},
   "outputs": [],
   "source": [
    "dataset=pd.read_csv(\"Obesity Classification.csv\")"
   ]
  },
  {
   "cell_type": "code",
   "execution_count": 47,
   "id": "ecadf2e4-d0cd-4af0-a70f-b0ce43b0561a",
   "metadata": {},
   "outputs": [
    {
     "data": {
      "text/html": [
       "<div>\n",
       "<style scoped>\n",
       "    .dataframe tbody tr th:only-of-type {\n",
       "        vertical-align: middle;\n",
       "    }\n",
       "\n",
       "    .dataframe tbody tr th {\n",
       "        vertical-align: top;\n",
       "    }\n",
       "\n",
       "    .dataframe thead th {\n",
       "        text-align: right;\n",
       "    }\n",
       "</style>\n",
       "<table border=\"1\" class=\"dataframe\">\n",
       "  <thead>\n",
       "    <tr style=\"text-align: right;\">\n",
       "      <th></th>\n",
       "      <th>ID</th>\n",
       "      <th>Age</th>\n",
       "      <th>Gender</th>\n",
       "      <th>Height</th>\n",
       "      <th>Weight</th>\n",
       "      <th>BMI</th>\n",
       "      <th>Label</th>\n",
       "    </tr>\n",
       "  </thead>\n",
       "  <tbody>\n",
       "    <tr>\n",
       "      <th>0</th>\n",
       "      <td>1</td>\n",
       "      <td>25</td>\n",
       "      <td>Male</td>\n",
       "      <td>175</td>\n",
       "      <td>80</td>\n",
       "      <td>25.3</td>\n",
       "      <td>Normal Weight</td>\n",
       "    </tr>\n",
       "    <tr>\n",
       "      <th>1</th>\n",
       "      <td>2</td>\n",
       "      <td>30</td>\n",
       "      <td>Female</td>\n",
       "      <td>160</td>\n",
       "      <td>60</td>\n",
       "      <td>22.5</td>\n",
       "      <td>Normal Weight</td>\n",
       "    </tr>\n",
       "    <tr>\n",
       "      <th>2</th>\n",
       "      <td>3</td>\n",
       "      <td>35</td>\n",
       "      <td>Male</td>\n",
       "      <td>180</td>\n",
       "      <td>90</td>\n",
       "      <td>27.3</td>\n",
       "      <td>Overweight</td>\n",
       "    </tr>\n",
       "    <tr>\n",
       "      <th>3</th>\n",
       "      <td>4</td>\n",
       "      <td>40</td>\n",
       "      <td>Female</td>\n",
       "      <td>150</td>\n",
       "      <td>50</td>\n",
       "      <td>20.0</td>\n",
       "      <td>Underweight</td>\n",
       "    </tr>\n",
       "    <tr>\n",
       "      <th>4</th>\n",
       "      <td>5</td>\n",
       "      <td>45</td>\n",
       "      <td>Male</td>\n",
       "      <td>190</td>\n",
       "      <td>100</td>\n",
       "      <td>31.2</td>\n",
       "      <td>Obese</td>\n",
       "    </tr>\n",
       "    <tr>\n",
       "      <th>...</th>\n",
       "      <td>...</td>\n",
       "      <td>...</td>\n",
       "      <td>...</td>\n",
       "      <td>...</td>\n",
       "      <td>...</td>\n",
       "      <td>...</td>\n",
       "      <td>...</td>\n",
       "    </tr>\n",
       "    <tr>\n",
       "      <th>103</th>\n",
       "      <td>106</td>\n",
       "      <td>11</td>\n",
       "      <td>Male</td>\n",
       "      <td>175</td>\n",
       "      <td>10</td>\n",
       "      <td>3.9</td>\n",
       "      <td>Underweight</td>\n",
       "    </tr>\n",
       "    <tr>\n",
       "      <th>104</th>\n",
       "      <td>107</td>\n",
       "      <td>16</td>\n",
       "      <td>Female</td>\n",
       "      <td>160</td>\n",
       "      <td>10</td>\n",
       "      <td>3.9</td>\n",
       "      <td>Underweight</td>\n",
       "    </tr>\n",
       "    <tr>\n",
       "      <th>105</th>\n",
       "      <td>108</td>\n",
       "      <td>21</td>\n",
       "      <td>Male</td>\n",
       "      <td>180</td>\n",
       "      <td>15</td>\n",
       "      <td>5.6</td>\n",
       "      <td>Underweight</td>\n",
       "    </tr>\n",
       "    <tr>\n",
       "      <th>106</th>\n",
       "      <td>109</td>\n",
       "      <td>26</td>\n",
       "      <td>Female</td>\n",
       "      <td>150</td>\n",
       "      <td>15</td>\n",
       "      <td>5.6</td>\n",
       "      <td>Underweight</td>\n",
       "    </tr>\n",
       "    <tr>\n",
       "      <th>107</th>\n",
       "      <td>110</td>\n",
       "      <td>31</td>\n",
       "      <td>Male</td>\n",
       "      <td>190</td>\n",
       "      <td>20</td>\n",
       "      <td>8.3</td>\n",
       "      <td>Underweight</td>\n",
       "    </tr>\n",
       "  </tbody>\n",
       "</table>\n",
       "<p>108 rows × 7 columns</p>\n",
       "</div>"
      ],
      "text/plain": [
       "      ID  Age  Gender  Height  Weight   BMI          Label\n",
       "0      1   25    Male     175      80  25.3  Normal Weight\n",
       "1      2   30  Female     160      60  22.5  Normal Weight\n",
       "2      3   35    Male     180      90  27.3     Overweight\n",
       "3      4   40  Female     150      50  20.0    Underweight\n",
       "4      5   45    Male     190     100  31.2          Obese\n",
       "..   ...  ...     ...     ...     ...   ...            ...\n",
       "103  106   11    Male     175      10   3.9    Underweight\n",
       "104  107   16  Female     160      10   3.9    Underweight\n",
       "105  108   21    Male     180      15   5.6    Underweight\n",
       "106  109   26  Female     150      15   5.6    Underweight\n",
       "107  110   31    Male     190      20   8.3    Underweight\n",
       "\n",
       "[108 rows x 7 columns]"
      ]
     },
     "execution_count": 47,
     "metadata": {},
     "output_type": "execute_result"
    }
   ],
   "source": [
    "dataset"
   ]
  },
  {
   "cell_type": "code",
   "execution_count": 48,
   "id": "424c6ff6-8242-46fb-a57a-e11926d0c356",
   "metadata": {},
   "outputs": [],
   "source": [
    "dataset.drop(['ID'],inplace=True,axis=1)"
   ]
  },
  {
   "cell_type": "code",
   "execution_count": 49,
   "id": "7ac3b559-d728-4fc2-96df-0bdbfb8d2092",
   "metadata": {},
   "outputs": [
    {
     "data": {
      "text/html": [
       "<div>\n",
       "<style scoped>\n",
       "    .dataframe tbody tr th:only-of-type {\n",
       "        vertical-align: middle;\n",
       "    }\n",
       "\n",
       "    .dataframe tbody tr th {\n",
       "        vertical-align: top;\n",
       "    }\n",
       "\n",
       "    .dataframe thead th {\n",
       "        text-align: right;\n",
       "    }\n",
       "</style>\n",
       "<table border=\"1\" class=\"dataframe\">\n",
       "  <thead>\n",
       "    <tr style=\"text-align: right;\">\n",
       "      <th></th>\n",
       "      <th>Age</th>\n",
       "      <th>Gender</th>\n",
       "      <th>Height</th>\n",
       "      <th>Weight</th>\n",
       "      <th>BMI</th>\n",
       "      <th>Label</th>\n",
       "    </tr>\n",
       "  </thead>\n",
       "  <tbody>\n",
       "    <tr>\n",
       "      <th>0</th>\n",
       "      <td>25</td>\n",
       "      <td>Male</td>\n",
       "      <td>175</td>\n",
       "      <td>80</td>\n",
       "      <td>25.3</td>\n",
       "      <td>Normal Weight</td>\n",
       "    </tr>\n",
       "    <tr>\n",
       "      <th>1</th>\n",
       "      <td>30</td>\n",
       "      <td>Female</td>\n",
       "      <td>160</td>\n",
       "      <td>60</td>\n",
       "      <td>22.5</td>\n",
       "      <td>Normal Weight</td>\n",
       "    </tr>\n",
       "    <tr>\n",
       "      <th>2</th>\n",
       "      <td>35</td>\n",
       "      <td>Male</td>\n",
       "      <td>180</td>\n",
       "      <td>90</td>\n",
       "      <td>27.3</td>\n",
       "      <td>Overweight</td>\n",
       "    </tr>\n",
       "    <tr>\n",
       "      <th>3</th>\n",
       "      <td>40</td>\n",
       "      <td>Female</td>\n",
       "      <td>150</td>\n",
       "      <td>50</td>\n",
       "      <td>20.0</td>\n",
       "      <td>Underweight</td>\n",
       "    </tr>\n",
       "    <tr>\n",
       "      <th>4</th>\n",
       "      <td>45</td>\n",
       "      <td>Male</td>\n",
       "      <td>190</td>\n",
       "      <td>100</td>\n",
       "      <td>31.2</td>\n",
       "      <td>Obese</td>\n",
       "    </tr>\n",
       "    <tr>\n",
       "      <th>...</th>\n",
       "      <td>...</td>\n",
       "      <td>...</td>\n",
       "      <td>...</td>\n",
       "      <td>...</td>\n",
       "      <td>...</td>\n",
       "      <td>...</td>\n",
       "    </tr>\n",
       "    <tr>\n",
       "      <th>103</th>\n",
       "      <td>11</td>\n",
       "      <td>Male</td>\n",
       "      <td>175</td>\n",
       "      <td>10</td>\n",
       "      <td>3.9</td>\n",
       "      <td>Underweight</td>\n",
       "    </tr>\n",
       "    <tr>\n",
       "      <th>104</th>\n",
       "      <td>16</td>\n",
       "      <td>Female</td>\n",
       "      <td>160</td>\n",
       "      <td>10</td>\n",
       "      <td>3.9</td>\n",
       "      <td>Underweight</td>\n",
       "    </tr>\n",
       "    <tr>\n",
       "      <th>105</th>\n",
       "      <td>21</td>\n",
       "      <td>Male</td>\n",
       "      <td>180</td>\n",
       "      <td>15</td>\n",
       "      <td>5.6</td>\n",
       "      <td>Underweight</td>\n",
       "    </tr>\n",
       "    <tr>\n",
       "      <th>106</th>\n",
       "      <td>26</td>\n",
       "      <td>Female</td>\n",
       "      <td>150</td>\n",
       "      <td>15</td>\n",
       "      <td>5.6</td>\n",
       "      <td>Underweight</td>\n",
       "    </tr>\n",
       "    <tr>\n",
       "      <th>107</th>\n",
       "      <td>31</td>\n",
       "      <td>Male</td>\n",
       "      <td>190</td>\n",
       "      <td>20</td>\n",
       "      <td>8.3</td>\n",
       "      <td>Underweight</td>\n",
       "    </tr>\n",
       "  </tbody>\n",
       "</table>\n",
       "<p>108 rows × 6 columns</p>\n",
       "</div>"
      ],
      "text/plain": [
       "     Age  Gender  Height  Weight   BMI          Label\n",
       "0     25    Male     175      80  25.3  Normal Weight\n",
       "1     30  Female     160      60  22.5  Normal Weight\n",
       "2     35    Male     180      90  27.3     Overweight\n",
       "3     40  Female     150      50  20.0    Underweight\n",
       "4     45    Male     190     100  31.2          Obese\n",
       "..   ...     ...     ...     ...   ...            ...\n",
       "103   11    Male     175      10   3.9    Underweight\n",
       "104   16  Female     160      10   3.9    Underweight\n",
       "105   21    Male     180      15   5.6    Underweight\n",
       "106   26  Female     150      15   5.6    Underweight\n",
       "107   31    Male     190      20   8.3    Underweight\n",
       "\n",
       "[108 rows x 6 columns]"
      ]
     },
     "execution_count": 49,
     "metadata": {},
     "output_type": "execute_result"
    }
   ],
   "source": [
    "dataset"
   ]
  },
  {
   "cell_type": "code",
   "execution_count": 50,
   "id": "e6a47492-3e66-4039-b5f7-a4e7464bd174",
   "metadata": {},
   "outputs": [
    {
     "data": {
      "text/html": [
       "<div>\n",
       "<style scoped>\n",
       "    .dataframe tbody tr th:only-of-type {\n",
       "        vertical-align: middle;\n",
       "    }\n",
       "\n",
       "    .dataframe tbody tr th {\n",
       "        vertical-align: top;\n",
       "    }\n",
       "\n",
       "    .dataframe thead th {\n",
       "        text-align: right;\n",
       "    }\n",
       "</style>\n",
       "<table border=\"1\" class=\"dataframe\">\n",
       "  <thead>\n",
       "    <tr style=\"text-align: right;\">\n",
       "      <th></th>\n",
       "      <th>Age</th>\n",
       "      <th>Height</th>\n",
       "      <th>Weight</th>\n",
       "      <th>BMI</th>\n",
       "    </tr>\n",
       "  </thead>\n",
       "  <tbody>\n",
       "    <tr>\n",
       "      <th>count</th>\n",
       "      <td>108.000000</td>\n",
       "      <td>108.000000</td>\n",
       "      <td>108.000000</td>\n",
       "      <td>108.000000</td>\n",
       "    </tr>\n",
       "    <tr>\n",
       "      <th>mean</th>\n",
       "      <td>46.555556</td>\n",
       "      <td>166.574074</td>\n",
       "      <td>59.490741</td>\n",
       "      <td>20.549074</td>\n",
       "    </tr>\n",
       "    <tr>\n",
       "      <th>std</th>\n",
       "      <td>24.720620</td>\n",
       "      <td>27.873615</td>\n",
       "      <td>28.856233</td>\n",
       "      <td>7.583818</td>\n",
       "    </tr>\n",
       "    <tr>\n",
       "      <th>min</th>\n",
       "      <td>11.000000</td>\n",
       "      <td>120.000000</td>\n",
       "      <td>10.000000</td>\n",
       "      <td>3.900000</td>\n",
       "    </tr>\n",
       "    <tr>\n",
       "      <th>25%</th>\n",
       "      <td>27.000000</td>\n",
       "      <td>140.000000</td>\n",
       "      <td>35.000000</td>\n",
       "      <td>16.700000</td>\n",
       "    </tr>\n",
       "    <tr>\n",
       "      <th>50%</th>\n",
       "      <td>42.500000</td>\n",
       "      <td>175.000000</td>\n",
       "      <td>55.000000</td>\n",
       "      <td>21.200000</td>\n",
       "    </tr>\n",
       "    <tr>\n",
       "      <th>75%</th>\n",
       "      <td>59.250000</td>\n",
       "      <td>190.000000</td>\n",
       "      <td>85.000000</td>\n",
       "      <td>26.100000</td>\n",
       "    </tr>\n",
       "    <tr>\n",
       "      <th>max</th>\n",
       "      <td>112.000000</td>\n",
       "      <td>210.000000</td>\n",
       "      <td>120.000000</td>\n",
       "      <td>37.200000</td>\n",
       "    </tr>\n",
       "  </tbody>\n",
       "</table>\n",
       "</div>"
      ],
      "text/plain": [
       "              Age      Height      Weight         BMI\n",
       "count  108.000000  108.000000  108.000000  108.000000\n",
       "mean    46.555556  166.574074   59.490741   20.549074\n",
       "std     24.720620   27.873615   28.856233    7.583818\n",
       "min     11.000000  120.000000   10.000000    3.900000\n",
       "25%     27.000000  140.000000   35.000000   16.700000\n",
       "50%     42.500000  175.000000   55.000000   21.200000\n",
       "75%     59.250000  190.000000   85.000000   26.100000\n",
       "max    112.000000  210.000000  120.000000   37.200000"
      ]
     },
     "execution_count": 50,
     "metadata": {},
     "output_type": "execute_result"
    }
   ],
   "source": [
    "dataset.describe()"
   ]
  },
  {
   "cell_type": "code",
   "execution_count": 51,
   "id": "ce3fc7da-99cc-4db0-af44-6cf2abe11837",
   "metadata": {},
   "outputs": [],
   "source": [
    "def QuanQual(dataset):\n",
    "    quan=[]\n",
    "    qual=[]\n",
    "    for ColumnName in dataset.columns:\n",
    "        #print(ColumnName)\n",
    "        if (dataset[ColumnName].dtypes=='O'):\n",
    "            #print(\"qual\")\n",
    "            qual.append(ColumnName)\n",
    "        else:\n",
    "            #print(\"quan\")\n",
    "            quan.append(ColumnName)\n",
    "    return quan,qual"
   ]
  },
  {
   "cell_type": "code",
   "execution_count": 52,
   "id": "c3d8e21e-37fe-4445-baf3-c3356e988b68",
   "metadata": {},
   "outputs": [],
   "source": [
    "quan,qual=QuanQual(dataset)"
   ]
  },
  {
   "cell_type": "code",
   "execution_count": 53,
   "id": "dc2f5471-a499-47ee-8b1b-84c8af8901b1",
   "metadata": {},
   "outputs": [
    {
     "data": {
      "text/plain": [
       "['Age', 'Height', 'Weight', 'BMI']"
      ]
     },
     "execution_count": 53,
     "metadata": {},
     "output_type": "execute_result"
    }
   ],
   "source": [
    "quan"
   ]
  },
  {
   "cell_type": "code",
   "execution_count": 54,
   "id": "8f8e2056-b994-4cb7-9dc8-61f4429ef5b3",
   "metadata": {},
   "outputs": [
    {
     "data": {
      "text/plain": [
       "['Gender', 'Label']"
      ]
     },
     "execution_count": 54,
     "metadata": {},
     "output_type": "execute_result"
    }
   ],
   "source": [
    "qual"
   ]
  },
  {
   "cell_type": "code",
   "execution_count": 55,
   "id": "1fb6fe81-75b0-4449-9dc5-eb3726ef0c8a",
   "metadata": {},
   "outputs": [],
   "source": [
    "descriptive=pd.DataFrame(index=[\"Mean\",\"Median\",\"Mode\",\n",
    "                                \"Q1:25%\",\"Q2:50%\",\"Q3:75%\",\"Q4:99%\",\"Q5:100%\",\n",
    "                                \"IQR\",\"1.5Rule\",\"Lesser\",\"Greater\",\"Min\",\"Max\",\"Kurtosis\",\"Skewness\",\"Variance\",\"Std_deviation\"],columns=quan)\n",
    "\n",
    "for ColumnName in quan:\n",
    "    \n",
    "    descriptive[ColumnName][\"Mean\"]=dataset[ColumnName].mean()\n",
    "    descriptive[ColumnName][\"Mean\"]=dataset[ColumnName].mean()\n",
    "    descriptive[ColumnName][\"Median\"]=dataset[ColumnName].median()\n",
    "    descriptive[ColumnName][\"Mode\"]=dataset[ColumnName].mode()[0]\n",
    "    descriptive[ColumnName][\"Q1:25%\"]=dataset.describe()[ColumnName][\"25%\"] \n",
    "    descriptive[ColumnName][\"Q2:50%\"]=dataset.describe()[ColumnName][\"50%\"]\n",
    "    descriptive[ColumnName][\"Q3:75%\"]=dataset.describe()[ColumnName][\"75%\"]\n",
    "    descriptive[ColumnName][\"Q4:99%\"]=np.percentile(dataset[ColumnName],99)\n",
    "    descriptive[ColumnName][\"Q5:100%\"]=dataset.describe()[ColumnName][\"max\"]\n",
    "    descriptive[ColumnName][\"IQR\"]= descriptive[ColumnName][\"Q3:75%\"]-descriptive[ColumnName][\"Q1:25%\"]\n",
    "    descriptive[ColumnName][\"1.5Rule\"]=1.5*descriptive[ColumnName][\"IQR\"]\n",
    "    descriptive[ColumnName][\"Lesser\"]=descriptive[ColumnName][\"Q1:25%\"]-descriptive[ColumnName][\"1.5Rule\"]\n",
    "    descriptive[ColumnName][\"Greater\"]=descriptive[ColumnName][\"Q3:75%\"]+descriptive[ColumnName][\"1.5Rule\"]\n",
    "    descriptive[ColumnName][\"Min\"]=dataset[ColumnName].min()\n",
    "    descriptive[ColumnName][\"Max\"]=dataset[ColumnName].max()\n",
    "    descriptive[ColumnName][\"Kurtosis\"]=dataset[ColumnName].kurtosis()\n",
    "    descriptive[ColumnName][\"Skewness\"]=dataset[ColumnName].skew()\n",
    "    descriptive[ColumnName][\"Variance\"]=dataset[ColumnName].var()\n",
    "    descriptive[ColumnName][\"Std_deviation\"]=dataset[ColumnName].std()"
   ]
  },
  {
   "cell_type": "code",
   "execution_count": 56,
   "id": "984fcce8-149e-451e-bdc0-efb73d431a63",
   "metadata": {},
   "outputs": [
    {
     "data": {
      "text/html": [
       "<div>\n",
       "<style scoped>\n",
       "    .dataframe tbody tr th:only-of-type {\n",
       "        vertical-align: middle;\n",
       "    }\n",
       "\n",
       "    .dataframe tbody tr th {\n",
       "        vertical-align: top;\n",
       "    }\n",
       "\n",
       "    .dataframe thead th {\n",
       "        text-align: right;\n",
       "    }\n",
       "</style>\n",
       "<table border=\"1\" class=\"dataframe\">\n",
       "  <thead>\n",
       "    <tr style=\"text-align: right;\">\n",
       "      <th></th>\n",
       "      <th>Age</th>\n",
       "      <th>Height</th>\n",
       "      <th>Weight</th>\n",
       "      <th>BMI</th>\n",
       "    </tr>\n",
       "  </thead>\n",
       "  <tbody>\n",
       "    <tr>\n",
       "      <th>Mean</th>\n",
       "      <td>46.555556</td>\n",
       "      <td>166.574074</td>\n",
       "      <td>59.490741</td>\n",
       "      <td>20.549074</td>\n",
       "    </tr>\n",
       "    <tr>\n",
       "      <th>Median</th>\n",
       "      <td>42.5</td>\n",
       "      <td>175.0</td>\n",
       "      <td>55.0</td>\n",
       "      <td>21.2</td>\n",
       "    </tr>\n",
       "    <tr>\n",
       "      <th>Mode</th>\n",
       "      <td>16</td>\n",
       "      <td>160</td>\n",
       "      <td>75</td>\n",
       "      <td>16.7</td>\n",
       "    </tr>\n",
       "    <tr>\n",
       "      <th>Q1:25%</th>\n",
       "      <td>27.0</td>\n",
       "      <td>140.0</td>\n",
       "      <td>35.0</td>\n",
       "      <td>16.7</td>\n",
       "    </tr>\n",
       "    <tr>\n",
       "      <th>Q2:50%</th>\n",
       "      <td>42.5</td>\n",
       "      <td>175.0</td>\n",
       "      <td>55.0</td>\n",
       "      <td>21.2</td>\n",
       "    </tr>\n",
       "    <tr>\n",
       "      <th>Q3:75%</th>\n",
       "      <td>59.25</td>\n",
       "      <td>190.0</td>\n",
       "      <td>85.0</td>\n",
       "      <td>26.1</td>\n",
       "    </tr>\n",
       "    <tr>\n",
       "      <th>Q4:99%</th>\n",
       "      <td>107.93</td>\n",
       "      <td>210.0</td>\n",
       "      <td>119.65</td>\n",
       "      <td>36.99</td>\n",
       "    </tr>\n",
       "    <tr>\n",
       "      <th>Q5:100%</th>\n",
       "      <td>112.0</td>\n",
       "      <td>210.0</td>\n",
       "      <td>120.0</td>\n",
       "      <td>37.2</td>\n",
       "    </tr>\n",
       "    <tr>\n",
       "      <th>IQR</th>\n",
       "      <td>32.25</td>\n",
       "      <td>50.0</td>\n",
       "      <td>50.0</td>\n",
       "      <td>9.4</td>\n",
       "    </tr>\n",
       "    <tr>\n",
       "      <th>1.5Rule</th>\n",
       "      <td>48.375</td>\n",
       "      <td>75.0</td>\n",
       "      <td>75.0</td>\n",
       "      <td>14.1</td>\n",
       "    </tr>\n",
       "    <tr>\n",
       "      <th>Lesser</th>\n",
       "      <td>-21.375</td>\n",
       "      <td>65.0</td>\n",
       "      <td>-40.0</td>\n",
       "      <td>2.6</td>\n",
       "    </tr>\n",
       "    <tr>\n",
       "      <th>Greater</th>\n",
       "      <td>107.625</td>\n",
       "      <td>265.0</td>\n",
       "      <td>160.0</td>\n",
       "      <td>40.2</td>\n",
       "    </tr>\n",
       "    <tr>\n",
       "      <th>Min</th>\n",
       "      <td>11</td>\n",
       "      <td>120</td>\n",
       "      <td>10</td>\n",
       "      <td>3.9</td>\n",
       "    </tr>\n",
       "    <tr>\n",
       "      <th>Max</th>\n",
       "      <td>112</td>\n",
       "      <td>210</td>\n",
       "      <td>120</td>\n",
       "      <td>37.2</td>\n",
       "    </tr>\n",
       "    <tr>\n",
       "      <th>Kurtosis</th>\n",
       "      <td>0.045653</td>\n",
       "      <td>-1.150548</td>\n",
       "      <td>-0.960236</td>\n",
       "      <td>-0.362261</td>\n",
       "    </tr>\n",
       "    <tr>\n",
       "      <th>Skewness</th>\n",
       "      <td>0.821815</td>\n",
       "      <td>-0.112888</td>\n",
       "      <td>0.196069</td>\n",
       "      <td>-0.283914</td>\n",
       "    </tr>\n",
       "    <tr>\n",
       "      <th>Variance</th>\n",
       "      <td>611.109034</td>\n",
       "      <td>776.938387</td>\n",
       "      <td>832.682156</td>\n",
       "      <td>57.514298</td>\n",
       "    </tr>\n",
       "    <tr>\n",
       "      <th>Std_deviation</th>\n",
       "      <td>24.72062</td>\n",
       "      <td>27.873615</td>\n",
       "      <td>28.856233</td>\n",
       "      <td>7.583818</td>\n",
       "    </tr>\n",
       "  </tbody>\n",
       "</table>\n",
       "</div>"
      ],
      "text/plain": [
       "                      Age      Height      Weight        BMI\n",
       "Mean            46.555556  166.574074   59.490741  20.549074\n",
       "Median               42.5       175.0        55.0       21.2\n",
       "Mode                   16         160          75       16.7\n",
       "Q1:25%               27.0       140.0        35.0       16.7\n",
       "Q2:50%               42.5       175.0        55.0       21.2\n",
       "Q3:75%              59.25       190.0        85.0       26.1\n",
       "Q4:99%             107.93       210.0      119.65      36.99\n",
       "Q5:100%             112.0       210.0       120.0       37.2\n",
       "IQR                 32.25        50.0        50.0        9.4\n",
       "1.5Rule            48.375        75.0        75.0       14.1\n",
       "Lesser            -21.375        65.0       -40.0        2.6\n",
       "Greater           107.625       265.0       160.0       40.2\n",
       "Min                    11         120          10        3.9\n",
       "Max                   112         210         120       37.2\n",
       "Kurtosis         0.045653   -1.150548   -0.960236  -0.362261\n",
       "Skewness         0.821815   -0.112888    0.196069  -0.283914\n",
       "Variance       611.109034  776.938387  832.682156  57.514298\n",
       "Std_deviation    24.72062   27.873615   28.856233   7.583818"
      ]
     },
     "execution_count": 56,
     "metadata": {},
     "output_type": "execute_result"
    }
   ],
   "source": [
    "descriptive"
   ]
  },
  {
   "cell_type": "markdown",
   "id": "e8a534d8-6688-4bad-a474-6fb0a965b80c",
   "metadata": {},
   "source": [
    "## Bivariate"
   ]
  },
  {
   "cell_type": "code",
   "execution_count": 58,
   "id": "35116881-a34b-4e3b-a796-fc6fdf6a55ac",
   "metadata": {},
   "outputs": [
    {
     "data": {
      "text/html": [
       "<div>\n",
       "<style scoped>\n",
       "    .dataframe tbody tr th:only-of-type {\n",
       "        vertical-align: middle;\n",
       "    }\n",
       "\n",
       "    .dataframe tbody tr th {\n",
       "        vertical-align: top;\n",
       "    }\n",
       "\n",
       "    .dataframe thead th {\n",
       "        text-align: right;\n",
       "    }\n",
       "</style>\n",
       "<table border=\"1\" class=\"dataframe\">\n",
       "  <thead>\n",
       "    <tr style=\"text-align: right;\">\n",
       "      <th></th>\n",
       "      <th>Age</th>\n",
       "      <th>Height</th>\n",
       "      <th>Weight</th>\n",
       "      <th>BMI</th>\n",
       "    </tr>\n",
       "  </thead>\n",
       "  <tbody>\n",
       "    <tr>\n",
       "      <th>Age</th>\n",
       "      <td>611.109034</td>\n",
       "      <td>-52.985462</td>\n",
       "      <td>331.780893</td>\n",
       "      <td>88.898650</td>\n",
       "    </tr>\n",
       "    <tr>\n",
       "      <th>Height</th>\n",
       "      <td>-52.985462</td>\n",
       "      <td>776.938387</td>\n",
       "      <td>344.967982</td>\n",
       "      <td>74.903340</td>\n",
       "    </tr>\n",
       "    <tr>\n",
       "      <th>Weight</th>\n",
       "      <td>331.780893</td>\n",
       "      <td>344.967982</td>\n",
       "      <td>832.682156</td>\n",
       "      <td>212.894384</td>\n",
       "    </tr>\n",
       "    <tr>\n",
       "      <th>BMI</th>\n",
       "      <td>88.898650</td>\n",
       "      <td>74.903340</td>\n",
       "      <td>212.894384</td>\n",
       "      <td>57.514298</td>\n",
       "    </tr>\n",
       "  </tbody>\n",
       "</table>\n",
       "</div>"
      ],
      "text/plain": [
       "               Age      Height      Weight         BMI\n",
       "Age     611.109034  -52.985462  331.780893   88.898650\n",
       "Height  -52.985462  776.938387  344.967982   74.903340\n",
       "Weight  331.780893  344.967982  832.682156  212.894384\n",
       "BMI      88.898650   74.903340  212.894384   57.514298"
      ]
     },
     "execution_count": 58,
     "metadata": {},
     "output_type": "execute_result"
    }
   ],
   "source": [
    "dataset[quan].cov()"
   ]
  },
  {
   "cell_type": "code",
   "execution_count": 59,
   "id": "c08bdada-67fb-4e8d-9d26-5c4f129e8639",
   "metadata": {},
   "outputs": [
    {
     "data": {
      "image/png": "[encoded data removed]",
      "text/plain": [
       "<Figure size 1000x1000 with 2 Axes>"
      ]
     },
     "metadata": {},
     "output_type": "display_data"
    }
   ],
   "source": [
    "corrmatrix=dataset[quan].corr()\n",
    "plt.figure(figsize=(10,10))\n",
    "sns.heatmap(corrmatrix,annot=True,fmt=\"0.2f\",color=\"Red\")\n",
    "plt.title(\"correlation matrix to Obesity \")\n",
    "plt.show()"
   ]
  },
  {
   "cell_type": "code",
   "execution_count": 60,
   "id": "02411780-06bf-43b9-8c7b-4f097a97b776",
   "metadata": {},
   "outputs": [
    {
     "data": {
      "text/plain": [
       "<seaborn.axisgrid.PairGrid at 0x179a6d7d550>"
      ]
     },
     "execution_count": 60,
     "metadata": {},
     "output_type": "execute_result"
    },
    {
     "data": {
      "image/png": "[encoded data removed]",
      "text/plain": [
       "<Figure size 1000x1000 with 20 Axes>"
      ]
     },
     "metadata": {},
     "output_type": "display_data"
    }
   ],
   "source": [
    "import seaborn as sns\n",
    "sns.pairplot(dataset)"
   ]
  },
  {
   "cell_type": "code",
   "execution_count": 61,
   "id": "27f8d265-e96c-48c1-89bb-ef9fb464ef08",
   "metadata": {},
   "outputs": [],
   "source": [
    "from statsmodels.stats.outliers_influence import variance_inflation_factor"
   ]
  },
  {
   "cell_type": "code",
   "execution_count": 62,
   "id": "46aedf85-3106-4d6a-9fe5-f69699a8a50a",
   "metadata": {},
   "outputs": [],
   "source": [
    "def cal_vif(X):\n",
    "    vif=pd.DataFrame()\n",
    "    vif[\"variables\"]=X.columns\n",
    "    vif[\"VIF\"]=[variance_inflation_factor(X.values,i) for i in range(X.shape[1])]\n",
    "    return vif"
   ]
  },
  {
   "cell_type": "code",
   "execution_count": 63,
   "id": "6ea25d7e-0ebf-4f1d-879a-6cb89a41d771",
   "metadata": {},
   "outputs": [
    {
     "data": {
      "text/plain": [
       "['Age', 'Height', 'Weight', 'BMI']"
      ]
     },
     "execution_count": 63,
     "metadata": {},
     "output_type": "execute_result"
    }
   ],
   "source": [
    "quan"
   ]
  },
  {
   "cell_type": "code",
   "execution_count": 66,
   "id": "c49ab302-287e-4d56-b58d-e2310c454461",
   "metadata": {},
   "outputs": [
    {
     "data": {
      "text/html": [
       "<div>\n",
       "<style scoped>\n",
       "    .dataframe tbody tr th:only-of-type {\n",
       "        vertical-align: middle;\n",
       "    }\n",
       "\n",
       "    .dataframe tbody tr th {\n",
       "        vertical-align: top;\n",
       "    }\n",
       "\n",
       "    .dataframe thead th {\n",
       "        text-align: right;\n",
       "    }\n",
       "</style>\n",
       "<table border=\"1\" class=\"dataframe\">\n",
       "  <thead>\n",
       "    <tr style=\"text-align: right;\">\n",
       "      <th></th>\n",
       "      <th>variables</th>\n",
       "      <th>VIF</th>\n",
       "    </tr>\n",
       "  </thead>\n",
       "  <tbody>\n",
       "    <tr>\n",
       "      <th>0</th>\n",
       "      <td>Age</td>\n",
       "      <td>5.206454</td>\n",
       "    </tr>\n",
       "    <tr>\n",
       "      <th>1</th>\n",
       "      <td>Height</td>\n",
       "      <td>6.918619</td>\n",
       "    </tr>\n",
       "    <tr>\n",
       "      <th>2</th>\n",
       "      <td>Weight</td>\n",
       "      <td>8.357648</td>\n",
       "    </tr>\n",
       "  </tbody>\n",
       "</table>\n",
       "</div>"
      ],
      "text/plain": [
       "  variables       VIF\n",
       "0       Age  5.206454\n",
       "1    Height  6.918619\n",
       "2    Weight  8.357648"
      ]
     },
     "execution_count": 66,
     "metadata": {},
     "output_type": "execute_result"
    }
   ],
   "source": [
    "cal_vif(dataset[['Age', 'Height', 'Weight', ]])"
   ]
  },
  {
   "cell_type": "markdown",
   "id": "6d9bc107-6306-4473-baf7-9d4b1c04360d",
   "metadata": {},
   "source": [
    "## How the males and females are significantly differ with BMI"
   ]
  },
  {
   "cell_type": "code",
   "execution_count": 96,
   "id": "3b0d1ea2-b465-4bf1-acb7-40be01f77870",
   "metadata": {},
   "outputs": [
    {
     "data": {
      "text/plain": [
       "TtestResult(statistic=3.7513020296962, pvalue=0.00028723321268303705, df=106.0)"
      ]
     },
     "execution_count": 96,
     "metadata": {},
     "output_type": "execute_result"
    }
   ],
   "source": [
    "\n",
    "from scipy.stats import ttest_ind\n",
    "male=dataset[dataset['Gender']=='Male']['BMI']\n",
    "female=dataset[dataset['Gender']=='Female']['BMI']\n",
    "ttest_ind(male,female)\n"
   ]
  },
  {
   "cell_type": "code",
   "execution_count": 95,
   "id": "98bfe4b7-5e51-41d5-8b68-073cd9b9e9fa",
   "metadata": {},
   "outputs": [],
   "source": [
    "# H0 : There is no significant similarties between males and females with BMI\n",
    "#Reject Null Hypothesis when p_value < 0.05. \n",
    "#Hence here we are rejecting Null Hypothesis and accepting the Alternate Hypothesis\n",
    "#So There is a similarties between males and females with BMI"
   ]
  },
  {
   "cell_type": "markdown",
   "id": "8902d2af-30d2-4d4d-a86c-449e7d1686c2",
   "metadata": {},
   "source": [
    "## Is weight and height significantly difference with the BMI"
   ]
  },
  {
   "cell_type": "code",
   "execution_count": 101,
   "id": "5d18cb50-f139-4e3e-9507-56f1f424a332",
   "metadata": {},
   "outputs": [
    {
     "data": {
      "text/plain": [
       "F_onewayResult(statistic=1111.2215078396475, pvalue=5.294497896658014e-145)"
      ]
     },
     "execution_count": 101,
     "metadata": {},
     "output_type": "execute_result"
    }
   ],
   "source": [
    "\n",
    "import scipy.stats as stats\n",
    "stats.f_oneway(dataset['Weight'],dataset['BMI'],dataset['Height'])\n",
    "# H0 : There is no significant similarties between males and females with BMI\n",
    "#Reject Null Hypothesis when p_value < 0.05. \n",
    "#Hence here we are accepting Null Hypothesis and rejecting the Alternate Hypothesis\n",
    "#So There is no ignificant difference between Weight,Height and BMI"
   ]
  },
  {
   "cell_type": "markdown",
   "id": "46143eeb-4ca4-4064-8ff1-7d071fd1a8d0",
   "metadata": {},
   "source": [
    "## Is Age significantly difference with the BMI"
   ]
  },
  {
   "cell_type": "code",
   "execution_count": 103,
   "id": "cc3db5c3-66ba-47f3-8047-fcffb13cd9bc",
   "metadata": {},
   "outputs": [
    {
     "data": {
      "text/plain": [
       "F_onewayResult(statistic=109.24597002533545, pvalue=6.341116968380449e-21)"
      ]
     },
     "execution_count": 103,
     "metadata": {},
     "output_type": "execute_result"
    }
   ],
   "source": [
    "\n",
    "import scipy.stats as stats\n",
    "stats.f_oneway(dataset['Age'],dataset['BMI'])\n",
    "# H0 : There is no significant similarties between males and females with BMI\n",
    "#Reject Null Hypothesis when p_value < 0.05. \n",
    "#Hence here we are accepting Null Hypothesis and rejecting the Alternate Hypothesis\n",
    "#So There is no ignificant difference between Weight,Height and BMI"
   ]
  },
  {
   "cell_type": "markdown",
   "id": "4071fa41-285b-42ea-a3db-19b3bf288064",
   "metadata": {},
   "source": [
    "## Histogram"
   ]
  },
  {
   "cell_type": "code",
   "execution_count": 70,
   "id": "f5765ebd-6280-4a5d-a995-cb7500dbf0f8",
   "metadata": {},
   "outputs": [
    {
     "data": {
      "image/png": "[encoded data removed]",
      "text/plain": [
       "<Figure size 800x500 with 1 Axes>"
      ]
     },
     "metadata": {},
     "output_type": "display_data"
    }
   ],
   "source": [
    "plt.figure(figsize=(8, 5))\n",
    "sns.histplot(dataset[\"Label\"], bins=20, kde=True, color=\"green\")\n",
    "plt.xlabel(\"Label\")\n",
    "plt.ylabel(\"Frequency\")\n",
    "plt.title(\"Overview of Weight Analysis\")\n",
    "plt.show()"
   ]
  },
  {
   "cell_type": "markdown",
   "id": "87c5dc4a-1f9f-4af3-b9da-1e4636792e36",
   "metadata": {},
   "source": [
    "## Scatterplot"
   ]
  },
  {
   "cell_type": "code",
   "execution_count": 78,
   "id": "02ec222d-c4bf-4c40-9b4e-f0650dd2fc62",
   "metadata": {},
   "outputs": [
    {
     "data": {
      "image/png": "[encoded data removed]",
      "text/plain": [
       "<Figure size 800x500 with 1 Axes>"
      ]
     },
     "metadata": {},
     "output_type": "display_data"
    }
   ],
   "source": [
    "plt.figure(figsize=(8, 5))\n",
    "sns.scatterplot(x=dataset[\"Weight\"], y=dataset[\"BMI\"], color=\"green\")\n",
    "plt.xlabel(\"Weight\")\n",
    "plt.ylabel(\"Body Mass Index\")\n",
    "plt.title(\"Weught Vs BMI\")\n",
    "plt.show()"
   ]
  },
  {
   "cell_type": "markdown",
   "id": "a6529b0c-5bfa-49cb-9c83-95989687c185",
   "metadata": {},
   "source": [
    "## Project Analysis"
   ]
  },
  {
   "cell_type": "markdown",
   "id": "8ce5c0bf-447e-4752-80d9-62c3649ea491",
   "metadata": {},
   "source": [
    "## How many people are in obese category?"
   ]
  },
  {
   "cell_type": "code",
   "execution_count": 91,
   "id": "2af39812-246f-4598-ba09-128a6a42622f",
   "metadata": {},
   "outputs": [],
   "source": [
    "Obese_category = dataset[dataset['Label'] == 'Obese']"
   ]
  },
  {
   "cell_type": "code",
   "execution_count": 93,
   "id": "92850002-a423-40b5-b23a-9b557d21a6fa",
   "metadata": {},
   "outputs": [
    {
     "data": {
      "text/plain": [
       "12"
      ]
     },
     "execution_count": 93,
     "metadata": {},
     "output_type": "execute_result"
    }
   ],
   "source": [
    "len(Obese_category)"
   ]
  },
  {
   "cell_type": "code",
   "execution_count": null,
   "id": "39b9f20e-9cb2-4fad-919e-868fbac9a5d8",
   "metadata": {},
   "outputs": [],
   "source": [
    "#There are 12 people are in obese categories"
   ]
  },
  {
   "cell_type": "markdown",
   "id": "65db2815-7b33-4796-a7e6-3a4f1a79f4f4",
   "metadata": {},
   "source": [
    "## How many males are Overweight?"
   ]
  },
  {
   "cell_type": "code",
   "execution_count": 80,
   "id": "10ad409c-2f8f-4180-9a51-499d36aea633",
   "metadata": {},
   "outputs": [],
   "source": [
    "Overweight_males=dataset[(dataset['Gender']=='Male') & (dataset['Label']=='Overweight')]"
   ]
  },
  {
   "cell_type": "code",
   "execution_count": 81,
   "id": "3ceb65a8-8ea3-45f4-982d-72d9bd0095ad",
   "metadata": {},
   "outputs": [
    {
     "data": {
      "text/html": [
       "<div>\n",
       "<style scoped>\n",
       "    .dataframe tbody tr th:only-of-type {\n",
       "        vertical-align: middle;\n",
       "    }\n",
       "\n",
       "    .dataframe tbody tr th {\n",
       "        vertical-align: top;\n",
       "    }\n",
       "\n",
       "    .dataframe thead th {\n",
       "        text-align: right;\n",
       "    }\n",
       "</style>\n",
       "<table border=\"1\" class=\"dataframe\">\n",
       "  <thead>\n",
       "    <tr style=\"text-align: right;\">\n",
       "      <th></th>\n",
       "      <th>Age</th>\n",
       "      <th>Gender</th>\n",
       "      <th>Height</th>\n",
       "      <th>Weight</th>\n",
       "      <th>BMI</th>\n",
       "      <th>Label</th>\n",
       "    </tr>\n",
       "  </thead>\n",
       "  <tbody>\n",
       "    <tr>\n",
       "      <th>2</th>\n",
       "      <td>35</td>\n",
       "      <td>Male</td>\n",
       "      <td>180</td>\n",
       "      <td>90</td>\n",
       "      <td>27.3</td>\n",
       "      <td>Overweight</td>\n",
       "    </tr>\n",
       "    <tr>\n",
       "      <th>14</th>\n",
       "      <td>38</td>\n",
       "      <td>Male</td>\n",
       "      <td>190</td>\n",
       "      <td>90</td>\n",
       "      <td>27.3</td>\n",
       "      <td>Overweight</td>\n",
       "    </tr>\n",
       "    <tr>\n",
       "      <th>22</th>\n",
       "      <td>78</td>\n",
       "      <td>Male</td>\n",
       "      <td>180</td>\n",
       "      <td>90</td>\n",
       "      <td>27.3</td>\n",
       "      <td>Overweight</td>\n",
       "    </tr>\n",
       "    <tr>\n",
       "      <th>31</th>\n",
       "      <td>29</td>\n",
       "      <td>Male</td>\n",
       "      <td>180</td>\n",
       "      <td>85</td>\n",
       "      <td>26.1</td>\n",
       "      <td>Overweight</td>\n",
       "    </tr>\n",
       "    <tr>\n",
       "      <th>32</th>\n",
       "      <td>39</td>\n",
       "      <td>Male</td>\n",
       "      <td>190</td>\n",
       "      <td>95</td>\n",
       "      <td>27.0</td>\n",
       "      <td>Overweight</td>\n",
       "    </tr>\n",
       "    <tr>\n",
       "      <th>42</th>\n",
       "      <td>37</td>\n",
       "      <td>Male</td>\n",
       "      <td>190</td>\n",
       "      <td>85</td>\n",
       "      <td>26.1</td>\n",
       "      <td>Overweight</td>\n",
       "    </tr>\n",
       "    <tr>\n",
       "      <th>44</th>\n",
       "      <td>47</td>\n",
       "      <td>Male</td>\n",
       "      <td>200</td>\n",
       "      <td>95</td>\n",
       "      <td>27.0</td>\n",
       "      <td>Overweight</td>\n",
       "    </tr>\n",
       "    <tr>\n",
       "      <th>52</th>\n",
       "      <td>87</td>\n",
       "      <td>Male</td>\n",
       "      <td>190</td>\n",
       "      <td>85</td>\n",
       "      <td>26.1</td>\n",
       "      <td>Overweight</td>\n",
       "    </tr>\n",
       "    <tr>\n",
       "      <th>54</th>\n",
       "      <td>97</td>\n",
       "      <td>Male</td>\n",
       "      <td>200</td>\n",
       "      <td>95</td>\n",
       "      <td>27.0</td>\n",
       "      <td>Overweight</td>\n",
       "    </tr>\n",
       "    <tr>\n",
       "      <th>64</th>\n",
       "      <td>46</td>\n",
       "      <td>Male</td>\n",
       "      <td>200</td>\n",
       "      <td>85</td>\n",
       "      <td>26.1</td>\n",
       "      <td>Overweight</td>\n",
       "    </tr>\n",
       "    <tr>\n",
       "      <th>66</th>\n",
       "      <td>56</td>\n",
       "      <td>Male</td>\n",
       "      <td>210</td>\n",
       "      <td>95</td>\n",
       "      <td>27.0</td>\n",
       "      <td>Overweight</td>\n",
       "    </tr>\n",
       "    <tr>\n",
       "      <th>76</th>\n",
       "      <td>55</td>\n",
       "      <td>Male</td>\n",
       "      <td>210</td>\n",
       "      <td>85</td>\n",
       "      <td>26.1</td>\n",
       "      <td>Overweight</td>\n",
       "    </tr>\n",
       "  </tbody>\n",
       "</table>\n",
       "</div>"
      ],
      "text/plain": [
       "    Age Gender  Height  Weight   BMI       Label\n",
       "2    35   Male     180      90  27.3  Overweight\n",
       "14   38   Male     190      90  27.3  Overweight\n",
       "22   78   Male     180      90  27.3  Overweight\n",
       "31   29   Male     180      85  26.1  Overweight\n",
       "32   39   Male     190      95  27.0  Overweight\n",
       "42   37   Male     190      85  26.1  Overweight\n",
       "44   47   Male     200      95  27.0  Overweight\n",
       "52   87   Male     190      85  26.1  Overweight\n",
       "54   97   Male     200      95  27.0  Overweight\n",
       "64   46   Male     200      85  26.1  Overweight\n",
       "66   56   Male     210      95  27.0  Overweight\n",
       "76   55   Male     210      85  26.1  Overweight"
      ]
     },
     "execution_count": 81,
     "metadata": {},
     "output_type": "execute_result"
    }
   ],
   "source": [
    "Overweight_males"
   ]
  },
  {
   "cell_type": "code",
   "execution_count": 82,
   "id": "2d18adce-28e9-4662-ac70-62be8367bd76",
   "metadata": {},
   "outputs": [],
   "source": [
    "nos_overweight_males=len(Overweight_males)"
   ]
  },
  {
   "cell_type": "code",
   "execution_count": 83,
   "id": "a0df0200-7763-49cc-b3aa-5066484f981f",
   "metadata": {},
   "outputs": [
    {
     "data": {
      "text/plain": [
       "12"
      ]
     },
     "execution_count": 83,
     "metadata": {},
     "output_type": "execute_result"
    }
   ],
   "source": [
    "nos_overweight_males"
   ]
  },
  {
   "cell_type": "markdown",
   "id": "0e67e475-ceee-43a1-aa47-e57ff40f6831",
   "metadata": {},
   "source": [
    "## How many females are normal weight?"
   ]
  },
  {
   "cell_type": "code",
   "execution_count": 86,
   "id": "8e5374c1-7b6c-47c0-81f2-f46d41d92743",
   "metadata": {},
   "outputs": [],
   "source": [
    "normalweight_female=dataset[(dataset['Gender']=='Female') & (dataset['Label']=='Normal Weight')]"
   ]
  },
  {
   "cell_type": "code",
   "execution_count": 87,
   "id": "6707d331-e5a7-481f-a2b3-56b2913b34c5",
   "metadata": {},
   "outputs": [
    {
     "data": {
      "text/html": [
       "<div>\n",
       "<style scoped>\n",
       "    .dataframe tbody tr th:only-of-type {\n",
       "        vertical-align: middle;\n",
       "    }\n",
       "\n",
       "    .dataframe tbody tr th {\n",
       "        vertical-align: top;\n",
       "    }\n",
       "\n",
       "    .dataframe thead th {\n",
       "        text-align: right;\n",
       "    }\n",
       "</style>\n",
       "<table border=\"1\" class=\"dataframe\">\n",
       "  <thead>\n",
       "    <tr style=\"text-align: right;\">\n",
       "      <th></th>\n",
       "      <th>Age</th>\n",
       "      <th>Gender</th>\n",
       "      <th>Height</th>\n",
       "      <th>Weight</th>\n",
       "      <th>BMI</th>\n",
       "      <th>Label</th>\n",
       "    </tr>\n",
       "  </thead>\n",
       "  <tbody>\n",
       "    <tr>\n",
       "      <th>1</th>\n",
       "      <td>30</td>\n",
       "      <td>Female</td>\n",
       "      <td>160</td>\n",
       "      <td>60</td>\n",
       "      <td>22.5</td>\n",
       "      <td>Normal Weight</td>\n",
       "    </tr>\n",
       "    <tr>\n",
       "      <th>13</th>\n",
       "      <td>33</td>\n",
       "      <td>Female</td>\n",
       "      <td>150</td>\n",
       "      <td>60</td>\n",
       "      <td>22.5</td>\n",
       "      <td>Normal Weight</td>\n",
       "    </tr>\n",
       "    <tr>\n",
       "      <th>21</th>\n",
       "      <td>73</td>\n",
       "      <td>Female</td>\n",
       "      <td>160</td>\n",
       "      <td>60</td>\n",
       "      <td>22.5</td>\n",
       "      <td>Normal Weight</td>\n",
       "    </tr>\n",
       "    <tr>\n",
       "      <th>30</th>\n",
       "      <td>24</td>\n",
       "      <td>Female</td>\n",
       "      <td>160</td>\n",
       "      <td>55</td>\n",
       "      <td>21.2</td>\n",
       "      <td>Normal Weight</td>\n",
       "    </tr>\n",
       "    <tr>\n",
       "      <th>41</th>\n",
       "      <td>32</td>\n",
       "      <td>Female</td>\n",
       "      <td>150</td>\n",
       "      <td>55</td>\n",
       "      <td>21.2</td>\n",
       "      <td>Normal Weight</td>\n",
       "    </tr>\n",
       "    <tr>\n",
       "      <th>43</th>\n",
       "      <td>42</td>\n",
       "      <td>Female</td>\n",
       "      <td>140</td>\n",
       "      <td>65</td>\n",
       "      <td>22.7</td>\n",
       "      <td>Normal Weight</td>\n",
       "    </tr>\n",
       "    <tr>\n",
       "      <th>51</th>\n",
       "      <td>82</td>\n",
       "      <td>Female</td>\n",
       "      <td>150</td>\n",
       "      <td>55</td>\n",
       "      <td>21.2</td>\n",
       "      <td>Normal Weight</td>\n",
       "    </tr>\n",
       "    <tr>\n",
       "      <th>53</th>\n",
       "      <td>92</td>\n",
       "      <td>Female</td>\n",
       "      <td>140</td>\n",
       "      <td>65</td>\n",
       "      <td>22.7</td>\n",
       "      <td>Normal Weight</td>\n",
       "    </tr>\n",
       "    <tr>\n",
       "      <th>63</th>\n",
       "      <td>41</td>\n",
       "      <td>Female</td>\n",
       "      <td>140</td>\n",
       "      <td>55</td>\n",
       "      <td>21.2</td>\n",
       "      <td>Normal Weight</td>\n",
       "    </tr>\n",
       "    <tr>\n",
       "      <th>65</th>\n",
       "      <td>51</td>\n",
       "      <td>Female</td>\n",
       "      <td>130</td>\n",
       "      <td>65</td>\n",
       "      <td>22.7</td>\n",
       "      <td>Normal Weight</td>\n",
       "    </tr>\n",
       "    <tr>\n",
       "      <th>75</th>\n",
       "      <td>50</td>\n",
       "      <td>Female</td>\n",
       "      <td>130</td>\n",
       "      <td>60</td>\n",
       "      <td>22.5</td>\n",
       "      <td>Normal Weight</td>\n",
       "    </tr>\n",
       "    <tr>\n",
       "      <th>77</th>\n",
       "      <td>60</td>\n",
       "      <td>Female</td>\n",
       "      <td>120</td>\n",
       "      <td>70</td>\n",
       "      <td>23.4</td>\n",
       "      <td>Normal Weight</td>\n",
       "    </tr>\n",
       "  </tbody>\n",
       "</table>\n",
       "</div>"
      ],
      "text/plain": [
       "    Age  Gender  Height  Weight   BMI          Label\n",
       "1    30  Female     160      60  22.5  Normal Weight\n",
       "13   33  Female     150      60  22.5  Normal Weight\n",
       "21   73  Female     160      60  22.5  Normal Weight\n",
       "30   24  Female     160      55  21.2  Normal Weight\n",
       "41   32  Female     150      55  21.2  Normal Weight\n",
       "43   42  Female     140      65  22.7  Normal Weight\n",
       "51   82  Female     150      55  21.2  Normal Weight\n",
       "53   92  Female     140      65  22.7  Normal Weight\n",
       "63   41  Female     140      55  21.2  Normal Weight\n",
       "65   51  Female     130      65  22.7  Normal Weight\n",
       "75   50  Female     130      60  22.5  Normal Weight\n",
       "77   60  Female     120      70  23.4  Normal Weight"
      ]
     },
     "execution_count": 87,
     "metadata": {},
     "output_type": "execute_result"
    }
   ],
   "source": [
    "normalweight_female"
   ]
  },
  {
   "cell_type": "code",
   "execution_count": 88,
   "id": "77d85e03-e148-4985-896f-7fb87922637f",
   "metadata": {},
   "outputs": [],
   "source": [
    "nos_normalweight_female=len(normalweight_female)"
   ]
  },
  {
   "cell_type": "code",
   "execution_count": 89,
   "id": "7ca9eca2-cd40-4454-8152-ac37a58a6fc1",
   "metadata": {},
   "outputs": [
    {
     "data": {
      "text/plain": [
       "12"
      ]
     },
     "execution_count": 89,
     "metadata": {},
     "output_type": "execute_result"
    }
   ],
   "source": [
    "nos_normalweight_female"
   ]
  },
  {
   "cell_type": "markdown",
   "id": "a790bc48-0599-4c40-b9a2-b7c202800ec5",
   "metadata": {},
   "source": [
    "## How many people are in Overweight Label when their age is less than 40"
   ]
  },
  {
   "cell_type": "code",
   "execution_count": 104,
   "id": "a575cbb2-b715-481d-ad63-57f47f89eba6",
   "metadata": {},
   "outputs": [],
   "source": [
    "lessthan_forty=dataset[(dataset['Age'] >=40) & (dataset['Label']=='Overweight')]"
   ]
  },
  {
   "cell_type": "code",
   "execution_count": 107,
   "id": "41d2bd5d-1aea-4575-a827-76a6aab3803d",
   "metadata": {},
   "outputs": [
    {
     "data": {
      "text/html": [
       "<div>\n",
       "<style scoped>\n",
       "    .dataframe tbody tr th:only-of-type {\n",
       "        vertical-align: middle;\n",
       "    }\n",
       "\n",
       "    .dataframe tbody tr th {\n",
       "        vertical-align: top;\n",
       "    }\n",
       "\n",
       "    .dataframe thead th {\n",
       "        text-align: right;\n",
       "    }\n",
       "</style>\n",
       "<table border=\"1\" class=\"dataframe\">\n",
       "  <thead>\n",
       "    <tr style=\"text-align: right;\">\n",
       "      <th></th>\n",
       "      <th>Age</th>\n",
       "      <th>Gender</th>\n",
       "      <th>Height</th>\n",
       "      <th>Weight</th>\n",
       "      <th>BMI</th>\n",
       "      <th>Label</th>\n",
       "    </tr>\n",
       "  </thead>\n",
       "  <tbody>\n",
       "    <tr>\n",
       "      <th>22</th>\n",
       "      <td>78</td>\n",
       "      <td>Male</td>\n",
       "      <td>180</td>\n",
       "      <td>90</td>\n",
       "      <td>27.3</td>\n",
       "      <td>Overweight</td>\n",
       "    </tr>\n",
       "    <tr>\n",
       "      <th>33</th>\n",
       "      <td>44</td>\n",
       "      <td>Female</td>\n",
       "      <td>140</td>\n",
       "      <td>75</td>\n",
       "      <td>25.0</td>\n",
       "      <td>Overweight</td>\n",
       "    </tr>\n",
       "    <tr>\n",
       "      <th>35</th>\n",
       "      <td>54</td>\n",
       "      <td>Female</td>\n",
       "      <td>130</td>\n",
       "      <td>85</td>\n",
       "      <td>27.5</td>\n",
       "      <td>Overweight</td>\n",
       "    </tr>\n",
       "    <tr>\n",
       "      <th>37</th>\n",
       "      <td>64</td>\n",
       "      <td>Female</td>\n",
       "      <td>120</td>\n",
       "      <td>95</td>\n",
       "      <td>29.1</td>\n",
       "      <td>Overweight</td>\n",
       "    </tr>\n",
       "    <tr>\n",
       "      <th>44</th>\n",
       "      <td>47</td>\n",
       "      <td>Male</td>\n",
       "      <td>200</td>\n",
       "      <td>95</td>\n",
       "      <td>27.0</td>\n",
       "      <td>Overweight</td>\n",
       "    </tr>\n",
       "    <tr>\n",
       "      <th>45</th>\n",
       "      <td>52</td>\n",
       "      <td>Female</td>\n",
       "      <td>130</td>\n",
       "      <td>75</td>\n",
       "      <td>25.0</td>\n",
       "      <td>Overweight</td>\n",
       "    </tr>\n",
       "    <tr>\n",
       "      <th>47</th>\n",
       "      <td>62</td>\n",
       "      <td>Female</td>\n",
       "      <td>120</td>\n",
       "      <td>85</td>\n",
       "      <td>27.5</td>\n",
       "      <td>Overweight</td>\n",
       "    </tr>\n",
       "    <tr>\n",
       "      <th>52</th>\n",
       "      <td>87</td>\n",
       "      <td>Male</td>\n",
       "      <td>190</td>\n",
       "      <td>85</td>\n",
       "      <td>26.1</td>\n",
       "      <td>Overweight</td>\n",
       "    </tr>\n",
       "    <tr>\n",
       "      <th>54</th>\n",
       "      <td>97</td>\n",
       "      <td>Male</td>\n",
       "      <td>200</td>\n",
       "      <td>95</td>\n",
       "      <td>27.0</td>\n",
       "      <td>Overweight</td>\n",
       "    </tr>\n",
       "    <tr>\n",
       "      <th>55</th>\n",
       "      <td>102</td>\n",
       "      <td>Female</td>\n",
       "      <td>130</td>\n",
       "      <td>75</td>\n",
       "      <td>25.0</td>\n",
       "      <td>Overweight</td>\n",
       "    </tr>\n",
       "    <tr>\n",
       "      <th>57</th>\n",
       "      <td>112</td>\n",
       "      <td>Female</td>\n",
       "      <td>120</td>\n",
       "      <td>85</td>\n",
       "      <td>27.5</td>\n",
       "      <td>Overweight</td>\n",
       "    </tr>\n",
       "    <tr>\n",
       "      <th>64</th>\n",
       "      <td>46</td>\n",
       "      <td>Male</td>\n",
       "      <td>200</td>\n",
       "      <td>85</td>\n",
       "      <td>26.1</td>\n",
       "      <td>Overweight</td>\n",
       "    </tr>\n",
       "    <tr>\n",
       "      <th>66</th>\n",
       "      <td>56</td>\n",
       "      <td>Male</td>\n",
       "      <td>210</td>\n",
       "      <td>95</td>\n",
       "      <td>27.0</td>\n",
       "      <td>Overweight</td>\n",
       "    </tr>\n",
       "    <tr>\n",
       "      <th>67</th>\n",
       "      <td>61</td>\n",
       "      <td>Female</td>\n",
       "      <td>120</td>\n",
       "      <td>75</td>\n",
       "      <td>25.0</td>\n",
       "      <td>Overweight</td>\n",
       "    </tr>\n",
       "    <tr>\n",
       "      <th>76</th>\n",
       "      <td>55</td>\n",
       "      <td>Male</td>\n",
       "      <td>210</td>\n",
       "      <td>85</td>\n",
       "      <td>26.1</td>\n",
       "      <td>Overweight</td>\n",
       "    </tr>\n",
       "  </tbody>\n",
       "</table>\n",
       "</div>"
      ],
      "text/plain": [
       "    Age  Gender  Height  Weight   BMI       Label\n",
       "22   78    Male     180      90  27.3  Overweight\n",
       "33   44  Female     140      75  25.0  Overweight\n",
       "35   54  Female     130      85  27.5  Overweight\n",
       "37   64  Female     120      95  29.1  Overweight\n",
       "44   47    Male     200      95  27.0  Overweight\n",
       "45   52  Female     130      75  25.0  Overweight\n",
       "47   62  Female     120      85  27.5  Overweight\n",
       "52   87    Male     190      85  26.1  Overweight\n",
       "54   97    Male     200      95  27.0  Overweight\n",
       "55  102  Female     130      75  25.0  Overweight\n",
       "57  112  Female     120      85  27.5  Overweight\n",
       "64   46    Male     200      85  26.1  Overweight\n",
       "66   56    Male     210      95  27.0  Overweight\n",
       "67   61  Female     120      75  25.0  Overweight\n",
       "76   55    Male     210      85  26.1  Overweight"
      ]
     },
     "execution_count": 107,
     "metadata": {},
     "output_type": "execute_result"
    }
   ],
   "source": [
    "lessthan_forty"
   ]
  },
  {
   "cell_type": "code",
   "execution_count": 106,
   "id": "aaf7c085-3b98-4d4c-b05c-584a120c5879",
   "metadata": {},
   "outputs": [],
   "source": [
    "no_lessthan_forty=len(lessthan_forty)"
   ]
  },
  {
   "cell_type": "code",
   "execution_count": 108,
   "id": "2c10d55a-ad3c-4d83-9ec1-ad7bc99d7d9c",
   "metadata": {},
   "outputs": [
    {
     "data": {
      "text/plain": [
       "15"
      ]
     },
     "execution_count": 108,
     "metadata": {},
     "output_type": "execute_result"
    }
   ],
   "source": [
    "no_lessthan_forty"
   ]
  },
  {
   "cell_type": "code",
   "execution_count": null,
   "id": "bea9b997-4838-4277-be42-1afc3ccd92d5",
   "metadata": {},
   "outputs": [],
   "source": []
  }
 ],
 "metadata": {
  "kernelspec": {
   "display_name": "Python 3 (ipykernel)",
   "language": "python",
   "name": "python3"
  },
  "language_info": {
   "codemirror_mode": {
    "name": "ipython",
    "version": 3
   },
   "file_extension": ".py",
   "mimetype": "text/x-python",
   "name": "python",
   "nbconvert_exporter": "python",
   "pygments_lexer": "ipython3",
   "version": "3.11.5"
  }
 },
 "nbformat": 4,
 "nbformat_minor": 5
}
